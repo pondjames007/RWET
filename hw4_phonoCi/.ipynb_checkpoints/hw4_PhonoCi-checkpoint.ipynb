{
 "cells": [
  {
   "cell_type": "code",
   "execution_count": 1,
   "metadata": {
    "collapsed": true
   },
   "outputs": [],
   "source": [
    "import tracery\n",
    "from tracery.modifiers import base_english\n",
    "import random\n",
    "import json"
   ]
  },
  {
   "cell_type": "code",
   "execution_count": 2,
   "metadata": {
    "collapsed": true
   },
   "outputs": [],
   "source": [
    "venues_data = json.load(open(\"venues.json\", \"r\"))\n",
    "venues_one = []\n",
    "venues_two = []\n",
    "\n",
    "for venue_cat in venues_data[\"categories\"]:\n",
    "    for venue in venue_cat[\"categories\"]:\n",
    "        if len(venue[\"name\"].split(\" \")) == 1:\n",
    "            venues_one.append(venue[\"name\"].lower())\n",
    "        elif len(venue[\"name\"].split(\" \")) == 2:\n",
    "            venues_two.append(venue[\"name\"])"
   ]
  },
  {
   "cell_type": "code",
   "execution_count": 3,
   "metadata": {
    "collapsed": true
   },
   "outputs": [],
   "source": [
    "character_data = json.load(open(\"character.json\", \"r\"))\n",
    "characters = []\n",
    "qualities = []\n",
    "\n",
    "for character in character_data[\"characters\"]:\n",
    "    characters.append(character[\"name\"].lower())\n",
    "    for quality in character[\"qualities\"]:\n",
    "        qualities.append(quality.lower())"
   ]
  },
  {
   "cell_type": "code",
   "execution_count": 4,
   "metadata": {
    "collapsed": true
   },
   "outputs": [],
   "source": [
    "rich_data = json.load(open(\"richpeople.json\", \"r\"))\n",
    "riches = []\n",
    "\n",
    "for rich in rich_data[\"richPeople\"]:\n",
    "    if len(rich[\"name\"].split(\" \")) == 2:\n",
    "        riches.append(rich[\"name\"])"
   ]
  },
  {
   "cell_type": "code",
   "execution_count": 5,
   "metadata": {
    "collapsed": true
   },
   "outputs": [],
   "source": [
    "mood_data = json.load(open(\"moods.json\", \"r\"))\n",
    "moods = mood_data[\"moods\"]"
   ]
  },
  {
   "cell_type": "code",
   "execution_count": 6,
   "metadata": {
    "collapsed": true
   },
   "outputs": [],
   "source": [
    "colors_data = json.load(open(\"crayola.json\", \"r\"))\n",
    "colors = []\n",
    "\n",
    "for color in colors_data[\"colors\"]:\n",
    "    if len(color[\"color\"].split(\" \")) == 1:\n",
    "        colors.append(color[\"color\"].lower())"
   ]
  },
  {
   "cell_type": "code",
   "execution_count": 7,
   "metadata": {
    "collapsed": true
   },
   "outputs": [],
   "source": [
    "menu_data = json.load(open(\"menuItems.json\", \"r\"))\n",
    "menus = [data.lower() for data in menu_data[\"menuItems\"] if len(data.split(\" \"))==1]"
   ]
  },
  {
   "cell_type": "code",
   "execution_count": 8,
   "metadata": {
    "collapsed": true
   },
   "outputs": [],
   "source": [
    "adverb_data = json.load(open(\"adverbs.json\", \"r\"))\n",
    "adverbs = adverb_data[\"adverbs\"]"
   ]
  },
  {
   "cell_type": "code",
   "execution_count": 9,
   "metadata": {
    "collapsed": true
   },
   "outputs": [],
   "source": [
    "verb_data = json.load(open(\"verbs.json\", \"r\"))\n",
    "verbs = []\n",
    "\n",
    "for verb in verb_data[\"verbs\"]:\n",
    "    verbs.append(verb[\"past\"])"
   ]
  },
  {
   "cell_type": "code",
   "execution_count": null,
   "metadata": {
    "collapsed": true
   },
   "outputs": [],
   "source": [
    "# poem structure\n",
    "# 4-3-6 adj-n-adv-v, n-v-adv, adv-adj-adv-adj-n_two\n",
    "# 4-3-6 adj-n-adv-v, n-v-adv, n-n-n_two\n",
    "# 4-4-5 adj-n-adj-n, adj-n-adj-n, adv-v-adj-n_two\n",
    "# 4-6   n-n-v-n, a/an adv-v-n-n\n",
    "# **n_two will be a noun with 2 words**"
   ]
  },
  {
   "cell_type": "code",
   "execution_count": 10,
   "metadata": {
    "collapsed": true
   },
   "outputs": [],
   "source": [
    "rules = {\n",
    "    \"sentence_a\":[\"#adj.capitalize# #noun# #adv# #verb#, #noun# #verb# #adv#, #adv# #adj# #adv# #adj# #noun_two#\"],\n",
    "    \"sentence_b\":[\"#adj.capitalize# #noun# #adv# #verb#, #noun# #verb# #adv#, #noun# #noun# #noun_two# #noun_two#\"],\n",
    "    \"sentence_c\":[\"#adj.capitalize# #noun# #adj# #noun#, #adj# #noun# #adj# #noun#, #adv# #verb# #adj# #noun_two#\"],\n",
    "    \"sentence_d\":[\"#noun.capitalize# #noun# #verb# #noun#, #adv.a# #verb# #noun# #noun#\"],\n",
    "    \"noun\":[\"#venues#\", \"#characters#\", \"#menus#\"],\n",
    "    \"noun_two\":[\"#riches#\", \"#venues_two#\"],\n",
    "    \"verb\":verbs,\n",
    "    \"adj\":[\"#qualities#\", \"#moods#\", \"#colors#\"],\n",
    "    \"adv\":adverbs,\n",
    "    \"venues\":venues_one,\n",
    "    \"venues_two\":venues_two,\n",
    "    \"characters\":characters,\n",
    "    \"qualities\":qualities,\n",
    "    \"riches\":riches,\n",
    "    \"moods\":moods,\n",
    "    \"colors\":colors,\n",
    "    \"menus\":menus\n",
    "}"
   ]
  },
  {
   "cell_type": "code",
   "execution_count": 21,
   "metadata": {},
   "outputs": [
    {
     "name": "stdout",
     "output_type": "stream",
     "text": [
      "Devoted gossip kindly sighed, everyman breathed coolly, terribly unbiased daily giving Robert Rowling\n",
      "Negative death accidentally deserted, sycophant impressed joshingly, plums superhuman Cultural Center Robert Ziff\n",
      "Melon mall unaccepted everyman, final everyman gray hafergrutze, scarcely strapped aquamarine Larry Page\n",
      "Shaman tunnel sealed catalyst, a delightfully corrected bureaucrat roastbeef\n",
      "\n",
      "\n",
      "\n",
      "Gray everyman shrilly chased, garden decorated naturally, upliftingly aroused frightfully patient College Bookstore\n",
      "Tan chablis kookily wasted, pears rubbed smoothly, guardian curmudgeon Austrian Restaurant Gun Shop\n",
      "Lonely orange ridiculous beef, obedient nuts scarlet parade, selfishly skied razzmatazz Tailor Shop\n",
      "Field cucumbers posted catalyst, an even gazed herald fool\n",
      "\n",
      "\n",
      "\n",
      "Soothed huitres inquisitively ruined, bluepoints interested wrongly, extremely unwilling fast gold Hardware Store\n",
      "Clear poussin intensely worried, radishes worked calmly, zeltinger marmelade Smoothie Shop Community College\n",
      "Belittled vineyard giving creperie, reluctant hermit plum bouillon, daily concentrated pushy Motorcycle Shop\n",
      "Poussin vermouth sawed bananas, an offensively divided bridge vermouth\n",
      "\n",
      "\n",
      "\n"
     ]
    }
   ],
   "source": [
    "grammar = tracery.Grammar(rules)\n",
    "grammar.add_modifiers(base_english)\n",
    "\n",
    "for i in range(3):\n",
    "    print(grammar.flatten(\"#sentence_a#\"))\n",
    "    print(grammar.flatten(\"#sentence_b#\"))\n",
    "    print(grammar.flatten(\"#sentence_c#\"))\n",
    "    print(grammar.flatten(\"#sentence_d#\"))\n",
    "    print(\"\\n\\n\")"
   ]
  },
  {
   "cell_type": "code",
   "execution_count": null,
   "metadata": {
    "collapsed": true
   },
   "outputs": [],
   "source": []
  }
 ],
 "metadata": {
  "kernelspec": {
   "display_name": "Python 3",
   "language": "python",
   "name": "python3"
  },
  "language_info": {
   "codemirror_mode": {
    "name": "ipython",
    "version": 3
   },
   "file_extension": ".py",
   "mimetype": "text/x-python",
   "name": "python",
   "nbconvert_exporter": "python",
   "pygments_lexer": "ipython3",
   "version": "3.6.3"
  }
 },
 "nbformat": 4,
 "nbformat_minor": 2
}
