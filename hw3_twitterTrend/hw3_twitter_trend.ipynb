{
 "cells": [
  {
   "cell_type": "markdown",
   "metadata": {},
   "source": [
    "# My Twitter Trend"
   ]
  },
  {
   "cell_type": "code",
   "execution_count": 1,
   "metadata": {
    "collapsed": true
   },
   "outputs": [],
   "source": [
    "import random"
   ]
  },
  {
   "cell_type": "code",
   "execution_count": 2,
   "metadata": {
    "collapsed": true
   },
   "outputs": [],
   "source": [
    "#load each file in a list and put all of them into a big list\n",
    "trends = []\n",
    "trends.append([line.strip() for line in open(\"twitter_trend_US.txt\", \"r\")])\n",
    "trends.append([line.strip() for line in open(\"twitter_trend_US2.txt\", \"r\")])\n",
    "trends.append([line.strip() for line in open(\"twitter_trend_UK.txt\", \"r\")])\n",
    "trends.append([line.strip() for line in open(\"twitter_trend_UK2.txt\", \"r\")])\n",
    "trends.append([line.strip() for line in open(\"twitter_trend_SG.txt\", \"r\")])\n",
    "trends.append([line.strip() for line in open(\"twitter_trend_SG2.txt\", \"r\")])\n",
    "trends.append([line.strip() for line in open(\"twitter_trend_WORLD.txt\", \"r\")])\n",
    "trends.append([line.strip() for line in open(\"twitter_trend_WORLD2.txt\", \"r\")])"
   ]
  },
  {
   "cell_type": "code",
   "execution_count": 10,
   "metadata": {},
   "outputs": [
    {
     "name": "stdout",
     "output_type": "stream",
     "text": [
      "['#النصر_الباطن', '#ATABVB', '#ULfL', 'Bilbao', '#NationalMargaritaDay', '#الغوطه_تغرق_بالدماء', 'Batgirl', 'Ted Cruz', 'Joaquín Reyes', 'Welbeck', '#النصر_الباطن', '#ULfL', '#NationalMargaritaDay', '#الغوطه_تغرق_بالدماء', '#ARSOST', 'Joaquín Reyes', 'Batgirl', 'Ted Cruz', 'Janelle Monae', 'San Mamés', '#النصر_الباطن', '#ULfL', '#NationalMargaritaDay', 'Joaquín Reyes', '#EuropaLeague', '#الغوطه_تغرق_بالدماء', 'Janelle Monae', 'Brendan Fraser', 'Bruno Fernandes', 'San Mamés', '#النصر_الباطن', '#NationalMargaritaDay', 'Joaquín Reyes', 'Wayne LaPierre', '#PSL2018', '#وين_بتروح_اليوم', 'Janelle Monae', '#ThursdayThoughts', 'Brendan Fraser', 'Bruno Fernandes', '#NationalMargaritaDay', 'Wayne LaPierre', 'Joaquín Reyes', '#يزيد_جمال_الشخص', '#PSL2018', '#وين_بتروح_اليوم', '#ThursdayThoughts', 'Brendan Fraser', 'Janelle Monáe', '천둥번개', 'Wayne LaPierre', '#NationalMargaritaDay', '#PSL2018', '#وين_بتروح_اليوم', '#FelizJueves', '#ThursdayThoughts', '천둥번개', 'Brendan Fraser', 'Ali Zafar', 'Abida Parveen', 'Wayne LaPierre', '#NationalMargaritaDay', '#FelizJueves', '#TMYLMTourBrasil', '천둥번개', '#PSL2018', '#وين_بتروح_اليوم', 'Abida Parveen', 'Ali Zafar', '짜장vs짬뽕', '#TMYLMTourBrasil', '#FelizJueves', 'Wayne LaPierre', '#NationalMargaritaDay', '#PensionesDignas', '#ThursdayThoughts', '천둥번개', '初代プレステクイズ', '짜장vs짬뽕', 'ネコと和解', '#TMYLMTourBrasil', '#FelizJueves', '#PensionesDignas', '#Forges', '#دار_الاوبرا_السعوديه', 'HOBI HOBI', '初代プレステクイズ', '촛불시위', 'ネコと和解', '임효준', '#TMYLMTourBrasil', '#PensionesDignas', '#Forges', '#FelizJueves', '#دار_الاوبرا_السعوديه', '初代プレステクイズ', '촛불시위', '임효준', 'Hanna Öberg', 'ネコと和解', '#Forges', '#دار_الاوبرا_السعوديه', '#FelizJueves', '#PensionesDignas', '#ぐるナイ', '촛불시위', '初代プレステクイズ', '심석희', 'Suzanne Schulting', 'Cüneyt Çakır', '#Forges', '#دار_الاوبرا_السعوديه', '#USAvsCAN', '#NationalToastDay', '촛불시위', '#USSstrike', '初代プレステクイズ', 'Cüneyt Çakır', 'Amnistía Internacional', '최민정선수', '#Forges', '#USAvsCAN', '#اي_مدينه_انت_الان', '#NationalToastDay', '#USSstrike', '初代プレステクイズ', 'Cüneyt Çakır', 'Amnistía Internacional', '김영철', \"Sultan Abdülhamid Han'dır\", '#Forges', '#USAvsCAN', '#CANvsUSA', '#اي_مدينه_انت_الان', '#StudentsStandUp', 'Cüneyt Çakır', '初代プレステクイズ', 'Jenny Cavallo', 'Amnistía Internacional', 'Szabados', '#USAvsCAN', '#Forges', '#اي_مدينه_انت_الان', '#StudentsStandUp', '#猫の日', 'Independiente', 'Martin Silva', 'Jenny Cavallo', '初代プレステクイズ', '#عادي_تتزوج_وحده_تشيش', '#USAvsCAN', '#Forges', '#StudentsStandUp', '#اي_مدينه_انت_الان', '#猫の日', 'Independiente', 'Martin Silva', 'Jenny Cavallo', 'Scott Moir', 'Maddie Rooney', '#StudentsStandUp', '#USAvsCAN', '#اي_مدينه_انت_الان', 'Independiente', 'Martin Silva', '#猫の日', 'Jenny Cavallo', '#FestaFiatCronosNoBBB', 'Poulin', 'Gente de Zona', '#StudentsStandUp', 'Independiente', 'Martin Silva', '#USAvsCAN', 'Jenny Cavallo', '#اي_مدينه_انت_الان', '#امطار_الرياض', '#FestaFiatCronosNoBBB', 'Luis Fonsi', 'Scott Moir', '#StudentsStandUp', 'Martin Silva', 'Independiente', 'Jenny Cavallo', '#FestaFiatCronosNoBBB', 'Luis Fonsi', '#اي_مدينه_انت_الان', '#امطار_الرياض', '#猫の日', 'Jorge Wilstermann', 'Martin Silva', '#StudentsStandUp', 'Luis Fonsi', '#FestaFiatCronosNoBBB', 'Jael', '#DancingBrasil', '#猫の日', '#اي_مدينه_انت_الان', 'Zé Ricardo', 'Gremio', 'Luis Fonsi', '#FestaFiatCronosNoBBB', 'Amorebieta', '#猫の日', 'O Vasco', '#BRITs2018', '#CNNTownHall', '#DancingBrasil', 'De Gea', 'Jorge Wilstermann', '#BRITs2018', 'O Vasco', '#猫の日', '#ParklandStudentsSpeak', 'De Gea', '#رحيل_تركي_ال_شيخ_مطلب', '#متي_بتطلعين_رخصتك', 'Tubarão', 'Paulo Miranda', 'Remo', '#BRITs2018', 'De Gea', '#ParklandStudentsSpeak', '#رحيل_تركي_ال_شيخ_مطلب', '#BRITVOTELITTLEMIX', '#PablloVittarNoTVZ', 'Remo', 'Damião', 'Tubarão', 'Volkan Konak', '#BRITs2018', 'De Gea', '#BRITVOTELITTLEMIX', '#رحيل_تركي_ال_شيخ_مطلب', '#ParklandStudentsSpeak', '#PablloVittarNoTVZ', 'Remo', 'Volkan Konak', 'Lukaku', 'UĞUR KARTAL KİM']\n"
     ]
    }
   ],
   "source": [
    "# just showing how does one file look like\n",
    "print(trends[7])"
   ]
  },
  {
   "cell_type": "code",
   "execution_count": 31,
   "metadata": {
    "collapsed": true
   },
   "outputs": [],
   "source": [
    "# assign empty output lists\n",
    "my_tags_all = []\n",
    "my_tags_us = []\n",
    "my_tags_uk = []\n",
    "my_tags_sg = []\n",
    "my_tags_wd = []"
   ]
  },
  {
   "cell_type": "code",
   "execution_count": 32,
   "metadata": {
    "collapsed": true
   },
   "outputs": [],
   "source": [
    "# randomly choose trends\n",
    "for i in range(10):\n",
    "    tag_all = \"\"\n",
    "    tag_us = \"\"\n",
    "    tag_uk = \"\"\n",
    "    tag_sg = \"\"\n",
    "    tag_wd = \"\"\n",
    "    for j in range(4):\n",
    "        tag_all += random.choice(trends[random.randint(0, 7)])\n",
    "        tag_us += random.choice(trends[random.randint(0, 1)])\n",
    "        tag_uk += random.choice(trends[random.randint(2, 3)])\n",
    "        tag_sg += random.choice(trends[random.randint(4, 5)])\n",
    "        tag_wd += random.choice(trends[random.randint(6, 7)])\n",
    "    \n",
    "    # take out all whitespaces in the string\n",
    "    tag_all = tag_all.replace(\" \", \"\")\n",
    "    tag_us = tag_us.replace(\" \", \"\")\n",
    "    tag_uk = tag_uk.replace(\" \", \"\")\n",
    "    tag_sg = tag_sg.replace(\" \", \"\")\n",
    "    tag_wd = tag_wd.replace(\" \", \"\")\n",
    "    \n",
    "    # add \"#\" if the string is not started with \"#\"\n",
    "    if tag_all[0] != \"#\":\n",
    "        tag_all = \"#\" + tag_all\n",
    "    if tag_us[0] != \"#\":\n",
    "        tag_us = \"#\" + tag_us\n",
    "    if tag_uk[0] != \"#\":\n",
    "        tag_uk = \"#\" + tag_uk\n",
    "    if tag_sg[0] != \"#\":\n",
    "        tag_sg = \"#\" + tag_sg\n",
    "    if tag_wd[0] != \"#\":\n",
    "        tag_wd = \"#\" + tag_wd\n",
    "\n",
    "    my_tags_all.append(tag_all)\n",
    "    my_tags_us.append(tag_us)\n",
    "    my_tags_uk.append(tag_uk)\n",
    "    my_tags_sg.append(tag_sg)\n",
    "    my_tags_wd.append(tag_wd)"
   ]
  },
  {
   "cell_type": "code",
   "execution_count": 33,
   "metadata": {},
   "outputs": [
    {
     "name": "stdout",
     "output_type": "stream",
     "text": [
      "My Tags Trend - All\n",
      "#ToryMPs#وين_بتروح_اليوم初代プレステクイズMalaysia\n",
      "#JennyCavallo#WednesdayWisdom#AndThatsHowIGotThisScar#SASedu\n",
      "#JennyCavalloMontullパシュート#WorldwideJINius\n",
      "#ACL2018JeffSession#USAvsCAN#WednesdayWisdom\n",
      "#JanelleMonaeLiamGallagher#BestCompanies2018#READY_EXOlympic\n",
      "#showreelshareday#my600lblife#SASedu#FelizMiércoles\n",
      "#짜장vs짬뽕#SASeduMessiOVasco\n",
      "#FloridaSchoolShooting#ThingsICantAccept#NationalToastDayBillyGraham\n",
      "#PMQs#FloridaSchoolShooting#nefesimyok#SASedu\n",
      "#Damião#USSstrikeJennyCavallo#Beovizija2018\n"
     ]
    }
   ],
   "source": [
    "print(\"My Tags Trend - All\")\n",
    "for tag in my_tags_all:\n",
    "    print(tag)"
   ]
  },
  {
   "cell_type": "code",
   "execution_count": 34,
   "metadata": {},
   "outputs": [
    {
     "name": "stdout",
     "output_type": "stream",
     "text": [
      "My Tags Trend - US\n",
      "#ParklandStudentsSpeakScriptedQuestion#TwitterLockOut#crushingitsneaker\n",
      "#ThursdayThoughts#ThingsICantAccept#TwitterLockOutJurassicWorld3\n",
      "#AAPIEqualPayNorthwestDC#SuperstoreShiffrin\n",
      "#ScriptedQuestion#SDLive#WednesdayWisdomScriptedQuestion\n",
      "#BillyGraham#WednesdayWisdomSupremeMedvedeva\n",
      "#OfficerJustinBillaMartyHurney#FurnitureAMovie#AmazingRace\n",
      "#CzechRepublic#Falcon9#DLDayJordanPoole\n",
      "#FloridaHouseBrendanFraser#AfterSwimmingToTheIslandRajShah\n",
      "#KaetlynOsmondDecker#ParklandStudentsSpeakLoganCircle\n",
      "#nprnightshiftDavidWiseKendallCoyneDeGea\n"
     ]
    }
   ],
   "source": [
    "print(\"My Tags Trend - US\")\n",
    "for tag in my_tags_us:\n",
    "    print(tag)"
   ]
  },
  {
   "cell_type": "code",
   "execution_count": 35,
   "metadata": {},
   "outputs": [
    {
     "name": "stdout",
     "output_type": "stream",
     "text": [
      "My Tags Trend - UK\n",
      "#BestCompanies2018EveMuirheadMessiMorata\n",
      "#WeLoveYouArianaBillyGraham#TeamMuirhead#BackInTimefortea\n",
      "#OWL2018Camden#NationalToastDayBritishGas\n",
      "#Unicef#BestCompanies2018#ARSOSTPrimodos\n",
      "#NathanHughesSolCampbell#ARSOSTDuaLipa\n",
      "#BRITs2018Messi#ThursdayThoughtsSevilla\n",
      "#AndThatsHowIGotThisScarAbbasAraghchiBrendanFraserOUTRAGED\n",
      "#USSstrikeShaw#SkySportsLiamGallagher\n",
      "#SuarezWillianDavidDavis#antidepressants\n",
      "#Primodos#24hrsaeLiveForeverGregorTownsend\n"
     ]
    }
   ],
   "source": [
    "print(\"My Tags Trend - UK\")\n",
    "for tag in my_tags_uk:\n",
    "    print(tag)"
   ]
  },
  {
   "cell_type": "code",
   "execution_count": 36,
   "metadata": {},
   "outputs": [
    {
     "name": "stdout",
     "output_type": "stream",
     "text": [
      "My Tags Trend - SG\n",
      "#Russian#STARGRAMinSGHengSweeKeat#SGBudget2018\n",
      "#ESLOne#READY_EXOlympic#ACL2018ChewEngHan\n",
      "#ACL2018StanChart#FloridaSchoolShooting#Japan\n",
      "#EXOlympicsD3#READY_EXOlympicSingaporeans#ESLOne\n",
      "#ACL2018#EXOlympicsD3Russian#YahooFinance\n",
      "#StanChartHongKong#ACL2018HongKong\n",
      "#Singapore#oott#ESLOne#ESLOne\n",
      "#Singaporeans#FloridaSchoolShootingMalaysia#ACL2018\n",
      "#ACL2018BlackPanther#ESLOne#oott\n",
      "#StanChart#ACL2018Malaysia#Japan\n"
     ]
    }
   ],
   "source": [
    "print(\"My Tags Trend - SG\")\n",
    "for tag in my_tags_sg:\n",
    "    print(tag)"
   ]
  },
  {
   "cell_type": "code",
   "execution_count": 37,
   "metadata": {},
   "outputs": [
    {
     "name": "stdout",
     "output_type": "stream",
     "text": [
      "My Tags Trend - WORLD\n",
      "#Marcha21FNayara#Viña2018#StudentsStandUp\n",
      "#OOutroLadoParaisoザギトワ#ULfLNayara\n",
      "#RemoGhostManishPandey#اي_مدينه_انت_الان\n",
      "#初代プレステクイズLuisFonsi#WednesdayWisdom初代プレステクイズ\n",
      "#RemoBrendanFraser#CANvsUSA#PablloVittarNoTVZ\n",
      "#nefesimyok#BRITVOTELITTLEMIX#BRITVOTELITTLEMIXAmnistíaInternacional\n",
      "#انا_من_جيل#WednesdayWisdom#انا_من_جيلBillyGraham\n",
      "#Viña2018#OOutroLadoParaisoBillyGraham#BudgetSpeech2018\n",
      "#JeffSession#رحيل_تركي_ال_شيخ_مطلب#UPInvestorsSummit#NoHayMayorPlacerQue\n",
      "#PablloVittarNoTVZ#Marcha21FJorgeWilstermann#انا_من_جيل\n"
     ]
    }
   ],
   "source": [
    "print(\"My Tags Trend - WORLD\")\n",
    "for tag in my_tags_wd:\n",
    "    print(tag)"
   ]
  }
 ],
 "metadata": {
  "kernelspec": {
   "display_name": "Python 3",
   "language": "python",
   "name": "python3"
  },
  "language_info": {
   "codemirror_mode": {
    "name": "ipython",
    "version": 3
   },
   "file_extension": ".py",
   "mimetype": "text/x-python",
   "name": "python",
   "nbconvert_exporter": "python",
   "pygments_lexer": "ipython3",
   "version": "3.6.3"
  }
 },
 "nbformat": 4,
 "nbformat_minor": 2
}
