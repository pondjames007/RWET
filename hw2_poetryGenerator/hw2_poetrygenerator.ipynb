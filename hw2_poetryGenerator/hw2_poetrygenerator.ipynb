{
 "cells": [
  {
   "cell_type": "markdown",
   "metadata": {},
   "source": [
    "## To Make a Dadaist Poem - Mix 3 News"
   ]
  },
  {
   "cell_type": "code",
   "execution_count": 2,
   "metadata": {
    "collapsed": true
   },
   "outputs": [],
   "source": [
    "import random\n",
    "import textwrap"
   ]
  },
  {
   "cell_type": "code",
   "execution_count": 3,
   "metadata": {
    "collapsed": true
   },
   "outputs": [],
   "source": [
    "newspaper = []"
   ]
  },
  {
   "cell_type": "code",
   "execution_count": 4,
   "metadata": {
    "collapsed": true
   },
   "outputs": [],
   "source": [
    "newspaper.append(\"\"\"Nintendo Labo's cardboard accessories can interact with the Switch in a number of ways.\n",
    "For example, by popping out pre-cut pieces, users can build a piano that plays musical notes or an RC\n",
    "car that can be controlled with the gaming console. The kits are aimed at children ages 6 to 12 and\n",
    "go on sale starting April 20. The variety kit -- which includes projects like a fishing rod and piano\n",
    "-- will cost $70, while the robot kit sells for $80. The Nintendo Switch ($300) is sold separately.\n",
    "At a recent event in New York City, CNN Tech got an early look at the new low-tech creations, which\n",
    "Nintendo calls \"Toy-Cons.\" \"\"\")"
   ]
  },
  {
   "cell_type": "code",
   "execution_count": 5,
   "metadata": {
    "collapsed": true
   },
   "outputs": [],
   "source": [
    "newspaper.append(\"\"\"The billionaire CEO of SpaceX hosted a press conference after the company's\n",
    "Falcon Heavy rocket aced its first launch Tuesday. The new rocket is slated to fly a hefty\n",
    "telecommunications satellite for Arabsat, a Saudi Arabia-based firm, during the first half of 2018.\n",
    "It's also signed up to deliver a payload for the U.S. Air Force sometime this year.\n",
    "But Musk was more interested in talking about what SpaceX will build next.\n",
    "And he made it clear the company is still focused on its ultimate goal: Sending humans to live on Mars.\"\"\")"
   ]
  },
  {
   "cell_type": "code",
   "execution_count": 6,
   "metadata": {
    "collapsed": true
   },
   "outputs": [],
   "source": [
    "newspaper.append(\"\"\"a nonprofit that sets the global standard for emoji -- announced on Wednesday 157 new emoji\n",
    "options would be coming later this year. The latest collection includes a cupcake, lobster, pirate flag and\n",
    "more expressive smiley faces. Emoji will soon have a variety of new hairstyles, such as curly or bald, and\n",
    "more hair color options such as red and white. There will also be more animals, such as a kangaroo, llama,\n",
    "swan and mosquito. More fun smiley faces include a \"cold face\" with dangling icicles, a partying face and a \"woozy\" emoji.\"\"\")"
   ]
  },
  {
   "cell_type": "code",
   "execution_count": 45,
   "metadata": {},
   "outputs": [
    {
     "name": "stdout",
     "output_type": "stream",
     "text": [
      "\" Arabia-Based Faces. -- Faces Event The Separately. Ceo Of Smiley \"\n",
      "\n",
      "emoji the firm, curly fun projects of Nintendo swan ways.\n",
      "talking a to that and is Force more next. the fly bald, and\n",
      "company's face for icicles, face\" piano Arabsat, be --\n",
      "options 6 an new \"cold Musk dangling for this notes includes\n",
      "go hair users to ultimate car hosted year. rocket an a more\n",
      "early new later collection half it variety what humans a\n",
      "There such a emoji live recent at and in example, coming\n",
      "kangaroo, launch City, more robot was the of fishing for\n",
      "sometime piano At for \"woozy\" sets faces number -- is\n",
      "interested accessories 20. popping\n"
     ]
    }
   ],
   "source": [
    "words = []\n",
    "for news in newspaper:\n",
    "    words += news.split()\n",
    "    random.shuffle(words)\n",
    "\n",
    "title = []\n",
    "output = []\n",
    "for i in range(100):\n",
    "    if i < 10:\n",
    "        title.append(random.choice(words))\n",
    "    output.append(words[i])\n",
    "\n",
    "print(\"\\\"\",\" \".join(title).title(), \"\\\"\\n\")\n",
    "print(textwrap.fill(\" \".join(output), 60))"
   ]
  }
 ],
 "metadata": {
  "kernelspec": {
   "display_name": "Python 3",
   "language": "python",
   "name": "python3"
  },
  "language_info": {
   "codemirror_mode": {
    "name": "ipython",
    "version": 3
   },
   "file_extension": ".py",
   "mimetype": "text/x-python",
   "name": "python",
   "nbconvert_exporter": "python",
   "pygments_lexer": "ipython3",
   "version": "3.6.3"
  }
 },
 "nbformat": 4,
 "nbformat_minor": 2
}
